{
 "cells": [
  {
   "cell_type": "code",
   "execution_count": 1,
   "metadata": {},
   "outputs": [],
   "source": [
    "import sqlite3"
   ]
  },
  {
   "cell_type": "code",
   "execution_count": 2,
   "metadata": {},
   "outputs": [],
   "source": [
    "conn = sqlite3.connect(r\"test.db\")"
   ]
  },
  {
   "cell_type": "code",
   "execution_count": 3,
   "metadata": {},
   "outputs": [
    {
     "ename": "SyntaxError",
     "evalue": "invalid syntax (<ipython-input-3-fa2124d6610a>, line 1)",
     "output_type": "error",
     "traceback": [
      "\u001b[1;36m  File \u001b[1;32m\"<ipython-input-3-fa2124d6610a>\"\u001b[1;36m, line \u001b[1;32m1\u001b[0m\n\u001b[1;33m    CREATE TABLE stuff (\u001b[0m\n\u001b[1;37m               ^\u001b[0m\n\u001b[1;31mSyntaxError\u001b[0m\u001b[1;31m:\u001b[0m invalid syntax\n"
     ]
    }
   ],
   "source": [
    "c = conn.cursor()\n",
    "CREATE TABLE stuff (\n",
    " ids integer,\n",
    " name text,\n",
    " city text\n",
    ");"
   ]
  },
  {
   "cell_type": "code",
   "execution_count": 41,
   "metadata": {},
   "outputs": [],
   "source": [
    "INSERT INTO 'stuff' ('ids', 'name', 'city') VALUES\n",
    "    (904834,  'jim' ,  'London'),\n",
    "    (904835,  'jim' ,  'London'),\n",
    "    (90145,   'Fred',  'Paris'),\n",
    "    (90133,   'Fred',  'Paris'),\n",
    "    (90132,   'Fred',  'Paris');"
   ]
  },
  {
   "cell_type": "code",
   "execution_count": 42,
   "metadata": {},
   "outputs": [
    {
     "data": {
      "text/html": [
       "<div>\n",
       "<style scoped>\n",
       "    .dataframe tbody tr th:only-of-type {\n",
       "        vertical-align: middle;\n",
       "    }\n",
       "\n",
       "    .dataframe tbody tr th {\n",
       "        vertical-align: top;\n",
       "    }\n",
       "\n",
       "    .dataframe thead th {\n",
       "        text-align: right;\n",
       "    }\n",
       "</style>\n",
       "<table border=\"1\" class=\"dataframe\">\n",
       "  <thead>\n",
       "    <tr style=\"text-align: right;\">\n",
       "      <th></th>\n",
       "      <th>surname</th>\n",
       "      <th>firstname</th>\n",
       "      <th>othername</th>\n",
       "      <th>gender</th>\n",
       "      <th>initial</th>\n",
       "      <th>dob_day</th>\n",
       "      <th>dob_month</th>\n",
       "      <th>dob_year</th>\n",
       "      <th>facility_code</th>\n",
       "      <th>date_of_birth</th>\n",
       "    </tr>\n",
       "    <tr>\n",
       "      <th>dummy_id</th>\n",
       "      <th></th>\n",
       "      <th></th>\n",
       "      <th></th>\n",
       "      <th></th>\n",
       "      <th></th>\n",
       "      <th></th>\n",
       "      <th></th>\n",
       "      <th></th>\n",
       "      <th></th>\n",
       "      <th></th>\n",
       "    </tr>\n",
       "  </thead>\n",
       "  <tbody>\n",
       "    <tr>\n",
       "      <th>LID000000000</th>\n",
       "      <td>MODUPI</td>\n",
       "      <td>SYLVESTER</td>\n",
       "      <td>NaN</td>\n",
       "      <td>M</td>\n",
       "      <td>S</td>\n",
       "      <td>13.0</td>\n",
       "      <td>7.0</td>\n",
       "      <td>2008.0</td>\n",
       "      <td>81R005</td>\n",
       "      <td>2008-07-13</td>\n",
       "    </tr>\n",
       "    <tr>\n",
       "      <th>LID000000001</th>\n",
       "      <td>SHEIK</td>\n",
       "      <td>SHAMIRA</td>\n",
       "      <td>NaN</td>\n",
       "      <td>F</td>\n",
       "      <td>S</td>\n",
       "      <td>15.0</td>\n",
       "      <td>4.0</td>\n",
       "      <td>2010.0</td>\n",
       "      <td>81K018</td>\n",
       "      <td>2010-04-15</td>\n",
       "    </tr>\n",
       "    <tr>\n",
       "      <th>LID000000002</th>\n",
       "      <td>TATISI</td>\n",
       "      <td>IRENE</td>\n",
       "      <td>NaN</td>\n",
       "      <td>F</td>\n",
       "      <td>I</td>\n",
       "      <td>17.0</td>\n",
       "      <td>7.0</td>\n",
       "      <td>1952.0</td>\n",
       "      <td>81K018</td>\n",
       "      <td>1952-07-17</td>\n",
       "    </tr>\n",
       "    <tr>\n",
       "      <th>LID000000003</th>\n",
       "      <td>AUGUS</td>\n",
       "      <td>SIMONE</td>\n",
       "      <td>NaN</td>\n",
       "      <td>F</td>\n",
       "      <td>S</td>\n",
       "      <td>3.0</td>\n",
       "      <td>11.0</td>\n",
       "      <td>1981.0</td>\n",
       "      <td>83D015</td>\n",
       "      <td>1981-11-03</td>\n",
       "    </tr>\n",
       "    <tr>\n",
       "      <th>LID000000004</th>\n",
       "      <td>SPRINGBOK</td>\n",
       "      <td>PIET</td>\n",
       "      <td>NaN</td>\n",
       "      <td>M</td>\n",
       "      <td>P</td>\n",
       "      <td>14.0</td>\n",
       "      <td>11.0</td>\n",
       "      <td>1968.0</td>\n",
       "      <td>85U005</td>\n",
       "      <td>1968-11-14</td>\n",
       "    </tr>\n",
       "  </tbody>\n",
       "</table>\n",
       "</div>"
      ],
      "text/plain": [
       "                surname  firstname othername gender initial  dob_day  \\\n",
       "dummy_id                                                               \n",
       "LID000000000     MODUPI  SYLVESTER       NaN      M       S     13.0   \n",
       "LID000000001      SHEIK    SHAMIRA       NaN      F       S     15.0   \n",
       "LID000000002     TATISI      IRENE       NaN      F       I     17.0   \n",
       "LID000000003      AUGUS     SIMONE       NaN      F       S      3.0   \n",
       "LID000000004  SPRINGBOK       PIET       NaN      M       P     14.0   \n",
       "\n",
       "              dob_month  dob_year facility_code date_of_birth  \n",
       "dummy_id                                                       \n",
       "LID000000000        7.0    2008.0        81R005    2008-07-13  \n",
       "LID000000001        4.0    2010.0        81K018    2010-04-15  \n",
       "LID000000002        7.0    1952.0        81K018    1952-07-17  \n",
       "LID000000003       11.0    1981.0        83D015    1981-11-03  \n",
       "LID000000004       11.0    1968.0        85U005    1968-11-14  "
      ]
     },
     "execution_count": 42,
     "metadata": {},
     "output_type": "execute_result"
    }
   ],
   "source": [
    "df.head()"
   ]
  },
  {
   "cell_type": "code",
   "execution_count": 44,
   "metadata": {},
   "outputs": [
    {
     "ename": "TypeError",
     "evalue": "dropna() got an unexpected keyword argument 'axis'",
     "output_type": "error",
     "traceback": [
      "\u001b[1;31m---------------------------------------------------------------------------\u001b[0m",
      "\u001b[1;31mTypeError\u001b[0m                                 Traceback (most recent call last)",
      "\u001b[1;32m<ipython-input-44-4cef632d7414>\u001b[0m in \u001b[0;36m<module>\u001b[1;34m()\u001b[0m\n\u001b[0;32m      1\u001b[0m \u001b[1;31m#blocking\u001b[0m\u001b[1;33m\u001b[0m\u001b[1;33m\u001b[0m\u001b[0m\n\u001b[0;32m      2\u001b[0m \u001b[0mindexer\u001b[0m \u001b[1;33m=\u001b[0m \u001b[0mrl\u001b[0m\u001b[1;33m.\u001b[0m\u001b[0mBlockIndex\u001b[0m\u001b[1;33m(\u001b[0m\u001b[0mon\u001b[0m\u001b[1;33m=\u001b[0m\u001b[1;34m'surname'\u001b[0m \u001b[1;32mand\u001b[0m \u001b[1;34m'facility_code'\u001b[0m \u001b[1;32mand\u001b[0m \u001b[1;34m'date_of_birth'\u001b[0m\u001b[1;33m)\u001b[0m\u001b[1;33m\u001b[0m\u001b[0m\n\u001b[1;32m----> 3\u001b[1;33m \u001b[0mpairs\u001b[0m \u001b[1;33m=\u001b[0m \u001b[0mindexer\u001b[0m\u001b[1;33m.\u001b[0m\u001b[0mindex\u001b[0m\u001b[1;33m(\u001b[0m\u001b[0mdf\u001b[0m\u001b[1;33m)\u001b[0m\u001b[1;33m\u001b[0m\u001b[0m\n\u001b[0m",
      "\u001b[1;32mC:\\ProgramData\\Anaconda3\\lib\\site-packages\\recordlinkage\\base.py\u001b[0m in \u001b[0;36mindex\u001b[1;34m(self, x, x_link)\u001b[0m\n\u001b[0;32m    180\u001b[0m             \u001b[0mlogging\u001b[0m\u001b[1;33m.\u001b[0m\u001b[0minfo\u001b[0m\u001b[1;33m(\u001b[0m\u001b[1;34m\"Indexing - start indexing single DataFrame\"\u001b[0m\u001b[1;33m)\u001b[0m\u001b[1;33m\u001b[0m\u001b[0m\n\u001b[0;32m    181\u001b[0m \u001b[1;33m\u001b[0m\u001b[0m\n\u001b[1;32m--> 182\u001b[1;33m             \u001b[0mpairs\u001b[0m \u001b[1;33m=\u001b[0m \u001b[0mself\u001b[0m\u001b[1;33m.\u001b[0m\u001b[0m_dedup_index\u001b[0m\u001b[1;33m(\u001b[0m\u001b[1;33m*\u001b[0m\u001b[0mx\u001b[0m\u001b[1;33m)\u001b[0m\u001b[1;33m\u001b[0m\u001b[0m\n\u001b[0m\u001b[0;32m    183\u001b[0m \u001b[1;33m\u001b[0m\u001b[0m\n\u001b[0;32m    184\u001b[0m         \u001b[1;31m# store the number of pairs\u001b[0m\u001b[1;33m\u001b[0m\u001b[1;33m\u001b[0m\u001b[0m\n",
      "\u001b[1;32mC:\\ProgramData\\Anaconda3\\lib\\site-packages\\recordlinkage\\base.py\u001b[0m in \u001b[0;36m_dedup_index\u001b[1;34m(self, df_a)\u001b[0m\n\u001b[0;32m    114\u001b[0m         \u001b[1;34m\"\"\"Make record pairs of a single dataframe.\"\"\"\u001b[0m\u001b[1;33m\u001b[0m\u001b[0m\n\u001b[0;32m    115\u001b[0m \u001b[1;33m\u001b[0m\u001b[0m\n\u001b[1;32m--> 116\u001b[1;33m         \u001b[0mpairs\u001b[0m \u001b[1;33m=\u001b[0m \u001b[0mself\u001b[0m\u001b[1;33m.\u001b[0m\u001b[0m_link_index\u001b[0m\u001b[1;33m(\u001b[0m\u001b[0mdf_a\u001b[0m\u001b[1;33m,\u001b[0m \u001b[0mdf_a\u001b[0m\u001b[1;33m)\u001b[0m\u001b[1;33m\u001b[0m\u001b[0m\n\u001b[0m\u001b[0;32m    117\u001b[0m \u001b[1;33m\u001b[0m\u001b[0m\n\u001b[0;32m    118\u001b[0m         \u001b[1;31m# Remove all pairs not in the upper triangular part of the matrix.\u001b[0m\u001b[1;33m\u001b[0m\u001b[1;33m\u001b[0m\u001b[0m\n",
      "\u001b[1;32mC:\\ProgramData\\Anaconda3\\lib\\site-packages\\recordlinkage\\indexing.py\u001b[0m in \u001b[0;36m_link_index\u001b[1;34m(self, df_a, df_b)\u001b[0m\n\u001b[0;32m    746\u001b[0m \u001b[1;33m\u001b[0m\u001b[0m\n\u001b[0;32m    747\u001b[0m         \u001b[1;31m# make a dataset for the data on the left\u001b[0m\u001b[1;33m\u001b[0m\u001b[1;33m\u001b[0m\u001b[0m\n\u001b[1;32m--> 748\u001b[1;33m         \u001b[0mdata_left\u001b[0m \u001b[1;33m=\u001b[0m \u001b[0mdf_a\u001b[0m\u001b[1;33m[\u001b[0m\u001b[0mleft_on\u001b[0m\u001b[1;33m]\u001b[0m\u001b[1;33m.\u001b[0m\u001b[0mdropna\u001b[0m\u001b[1;33m(\u001b[0m\u001b[0maxis\u001b[0m\u001b[1;33m=\u001b[0m\u001b[1;36m0\u001b[0m\u001b[1;33m,\u001b[0m \u001b[0mhow\u001b[0m\u001b[1;33m=\u001b[0m\u001b[1;34m'any'\u001b[0m\u001b[1;33m,\u001b[0m \u001b[0minplace\u001b[0m\u001b[1;33m=\u001b[0m\u001b[1;32mFalse\u001b[0m\u001b[1;33m)\u001b[0m\u001b[1;33m\u001b[0m\u001b[0m\n\u001b[0m\u001b[0;32m    749\u001b[0m         \u001b[0mdata_left\u001b[0m\u001b[1;33m.\u001b[0m\u001b[0mcolumns\u001b[0m \u001b[1;33m=\u001b[0m \u001b[0mblocking_keys\u001b[0m\u001b[1;33m\u001b[0m\u001b[0m\n\u001b[0;32m    750\u001b[0m         \u001b[0mdata_left\u001b[0m\u001b[1;33m[\u001b[0m\u001b[1;34m'index_x'\u001b[0m\u001b[1;33m]\u001b[0m \u001b[1;33m=\u001b[0m \u001b[0mdata_left\u001b[0m\u001b[1;33m.\u001b[0m\u001b[0mindex\u001b[0m\u001b[1;33m\u001b[0m\u001b[0m\n",
      "\u001b[1;31mTypeError\u001b[0m: dropna() got an unexpected keyword argument 'axis'"
     ]
    }
   ],
   "source": [
    "#blocking\n",
    "indexer = rl.BlockIndex(on='surname' and 'facility_code' and 'date_of_birth')\n",
    "pairs = indexer.index(df)"
   ]
  },
  {
   "cell_type": "code",
   "execution_count": null,
   "metadata": {},
   "outputs": [],
   "source": [
    "#Doing comparision. creating the similarity weights\n",
    "compare_cl = rl.Compare(pairs, df)\n",
    "compare_cl.string('surname', 'surname', method='jarowinkler', threshold=0.85, name='surname')\n",
    "compare_cl.string('firstname', 'firstname', method='jarowinkler', threshold=0.85, name='firstname')\n",
    "compare_cl.exact('gender', 'gender', name='gender')\n",
    "compare_cl.exact('initial', 'initial', name='initial')\n",
    "compare_cl.exact('dob_day', 'dob_day', name='dob_day')\n",
    "compare_cl.exact('dob_month', 'dob_month', name='dob_month')\n",
    "compare_cl.exact('dob_year', 'dob_year', name='dob_year')\n",
    "compare_cl.exact('facility_code', 'facility_code', name='facility_code');\n",
    "print('It took', ((time.time()-start_comparision)/60)/60, 'hours. to complete comparision')"
   ]
  },
  {
   "cell_type": "code",
   "execution_count": null,
   "metadata": {},
   "outputs": [],
   "source": [
    "features.head(10)"
   ]
  },
  {
   "cell_type": "code",
   "execution_count": null,
   "metadata": {},
   "outputs": [],
   "source": [
    "features.describe()"
   ]
  },
  {
   "cell_type": "code",
   "execution_count": null,
   "metadata": {},
   "outputs": [],
   "source": [
    "# Sum the comparison results.\n",
    "features.sum(axis=1).value_counts().sort_index(ascending=False)"
   ]
  },
  {
   "cell_type": "code",
   "execution_count": null,
   "metadata": {},
   "outputs": [],
   "source": [
    "matches = features[features.sum(axis=1) > 6]"
   ]
  },
  {
   "cell_type": "code",
   "execution_count": null,
   "metadata": {},
   "outputs": [],
   "source": [
    "print(len(matches))"
   ]
  },
  {
   "cell_type": "code",
   "execution_count": null,
   "metadata": {},
   "outputs": [],
   "source": [
    "matches.head(10)  "
   ]
  }
 ],
 "metadata": {
  "kernelspec": {
   "display_name": "Python 3",
   "language": "python",
   "name": "python3"
  },
  "language_info": {
   "codemirror_mode": {
    "name": "ipython",
    "version": 3
   },
   "file_extension": ".py",
   "mimetype": "text/x-python",
   "name": "python",
   "nbconvert_exporter": "python",
   "pygments_lexer": "ipython3",
   "version": "3.6.5"
  }
 },
 "nbformat": 4,
 "nbformat_minor": 2
}
